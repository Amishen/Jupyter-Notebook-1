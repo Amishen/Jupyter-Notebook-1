{
 "cells": [
  {
   "cell_type": "markdown",
   "id": "d528c8e1",
   "metadata": {},
   "source": [
    "# Data Science Tools and Ecosystem"
   ]
  },
  {
   "cell_type": "markdown",
   "id": "bde88fa4",
   "metadata": {},
   "source": [
    "### In this notebook, Data Science Tools and Ecosystem are summarized."
   ]
  },
  {
   "cell_type": "markdown",
   "id": "c7a96649",
   "metadata": {},
   "source": [
    "### Some of the popular languages that Data Scientists use are:"
   ]
  },
  {
   "cell_type": "markdown",
   "id": "38d5fd6d",
   "metadata": {},
   "source": [
    "1. Python\n",
    "2. SQL\n",
    "3. Jupyter Notebook"
   ]
  },
  {
   "cell_type": "markdown",
   "id": "52668fd7",
   "metadata": {},
   "source": [
    "### Some of the commonly used libraries used by Data Scientists include:\n",
    "    1. Numpy\n",
    "    2. Pandas\n",
    "    3. Scipy"
   ]
  },
  {
   "cell_type": "markdown",
   "id": "7de0e1cb",
   "metadata": {},
   "source": [
    "| Data Science Tools |\n",
    "| ------ |\n",
    "| Python |\n",
    "| Tableau |\n",
    "| RStudio |"
   ]
  },
  {
   "cell_type": "markdown",
   "id": "ffe5007d",
   "metadata": {},
   "source": [
    "### Below are a few examples of evaluating arithmetic expressions in Python"
   ]
  },
  {
   "cell_type": "markdown",
   "id": "cb87874c",
   "metadata": {},
   "source": [
    "#### This a simple arithmetic expression to mutiply then add integers"
   ]
  },
  {
   "cell_type": "code",
   "execution_count": 3,
   "id": "9d7b933a",
   "metadata": {},
   "outputs": [
    {
     "data": {
      "text/plain": [
       "17.0"
      ]
     },
     "execution_count": 3,
     "metadata": {},
     "output_type": "execute_result"
    }
   ],
   "source": [
    "(3*4)+5."
   ]
  },
  {
   "cell_type": "markdown",
   "id": "2d9fedd6",
   "metadata": {},
   "source": [
    "#### This will convert 200 minutes to hours by diving by 60."
   ]
  },
  {
   "cell_type": "code",
   "execution_count": 4,
   "id": "a03ee373",
   "metadata": {},
   "outputs": [
    {
     "data": {
      "text/plain": [
       "33.333333333333336"
      ]
     },
     "execution_count": 4,
     "metadata": {},
     "output_type": "execute_result"
    }
   ],
   "source": [
    "200/6"
   ]
  },
  {
   "cell_type": "markdown",
   "id": "bbef615d",
   "metadata": {},
   "source": [
    "**Objectives:**  \n",
    "- Create a Jupyter Notebook\n",
    "- Create markdown cell with title of the notebook\n",
    "- List popular languages for Data Science"
   ]
  },
  {
   "cell_type": "markdown",
   "id": "d1d27cf7",
   "metadata": {},
   "source": [
    "#### Author\n",
    "Ziyun Shen"
   ]
  }
 ],
 "metadata": {
  "kernelspec": {
   "display_name": "Python 3 (ipykernel)",
   "language": "python",
   "name": "python3"
  },
  "language_info": {
   "codemirror_mode": {
    "name": "ipython",
    "version": 3
   },
   "file_extension": ".py",
   "mimetype": "text/x-python",
   "name": "python",
   "nbconvert_exporter": "python",
   "pygments_lexer": "ipython3",
   "version": "3.11.5"
  }
 },
 "nbformat": 4,
 "nbformat_minor": 5
}
